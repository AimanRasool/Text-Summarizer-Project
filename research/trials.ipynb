{
 "cells": [
  {
   "cell_type": "code",
   "execution_count": 2,
   "metadata": {},
   "outputs": [],
   "source": [
    "d = {\"key\": \"value\", \"key1\": \"value1\"}"
   ]
  },
  {
   "cell_type": "code",
   "execution_count": 3,
   "metadata": {},
   "outputs": [
    {
     "data": {
      "text/plain": [
       "'value'"
      ]
     },
     "execution_count": 3,
     "metadata": {},
     "output_type": "execute_result"
    }
   ],
   "source": [
    "d['key']\n"
   ]
  },
  {
   "cell_type": "code",
   "execution_count": 22,
   "metadata": {},
   "outputs": [
    {
     "name": "stdout",
     "output_type": "stream",
     "text": [
      "Requirement already satisfied: boxsdk in g:\\anaconda\\envs\\texts\\lib\\site-packages (3.9.2)\n",
      "Requirement already satisfied: attrs>=17.3.0 in g:\\anaconda\\envs\\texts\\lib\\site-packages (from boxsdk) (23.1.0)\n",
      "Requirement already satisfied: urllib3 in g:\\anaconda\\envs\\texts\\lib\\site-packages (from boxsdk) (2.1.0)\n",
      "Requirement already satisfied: requests<3,>=2.4.3 in g:\\anaconda\\envs\\texts\\lib\\site-packages (from boxsdk) (2.31.0)\n",
      "Requirement already satisfied: requests-toolbelt>=0.4.0 in g:\\anaconda\\envs\\texts\\lib\\site-packages (from boxsdk) (1.0.0)\n",
      "Requirement already satisfied: python-dateutil in g:\\anaconda\\envs\\texts\\lib\\site-packages (from boxsdk) (2.8.2)\n",
      "Requirement already satisfied: charset-normalizer<4,>=2 in g:\\anaconda\\envs\\texts\\lib\\site-packages (from requests<3,>=2.4.3->boxsdk) (3.3.2)\n",
      "Requirement already satisfied: idna<4,>=2.5 in g:\\anaconda\\envs\\texts\\lib\\site-packages (from requests<3,>=2.4.3->boxsdk) (3.6)\n",
      "Requirement already satisfied: certifi>=2017.4.17 in g:\\anaconda\\envs\\texts\\lib\\site-packages (from requests<3,>=2.4.3->boxsdk) (2023.11.17)\n",
      "Requirement already satisfied: six>=1.5 in g:\\anaconda\\envs\\texts\\lib\\site-packages (from python-dateutil->boxsdk) (1.16.0)\n",
      "Note: you may need to restart the kernel to use updated packages.\n"
     ]
    }
   ],
   "source": [
    "pip install boxsdk\n"
   ]
  },
  {
   "cell_type": "code",
   "execution_count": 2,
   "metadata": {},
   "outputs": [
    {
     "ename": "ModuleNotFoundError",
     "evalue": "No module named 'box'",
     "output_type": "error",
     "traceback": [
      "\u001b[1;31m---------------------------------------------------------------------------\u001b[0m",
      "\u001b[1;31mModuleNotFoundError\u001b[0m                       Traceback (most recent call last)",
      "Cell \u001b[1;32mIn[2], line 1\u001b[0m\n\u001b[1;32m----> 1\u001b[0m \u001b[38;5;28;01mfrom\u001b[39;00m \u001b[38;5;21;01mbox\u001b[39;00m \u001b[38;5;28;01mimport\u001b[39;00m ConfigBox\n",
      "\u001b[1;31mModuleNotFoundError\u001b[0m: No module named 'box'"
     ]
    }
   ],
   "source": [
    "from box import ConfigBox"
   ]
  }
 ],
 "metadata": {
  "kernelspec": {
   "display_name": "textS",
   "language": "python",
   "name": "python3"
  },
  "language_info": {
   "codemirror_mode": {
    "name": "ipython",
    "version": 3
   },
   "file_extension": ".py",
   "mimetype": "text/x-python",
   "name": "python",
   "nbconvert_exporter": "python",
   "pygments_lexer": "ipython3",
   "version": "3.8.18"
  }
 },
 "nbformat": 4,
 "nbformat_minor": 2
}
